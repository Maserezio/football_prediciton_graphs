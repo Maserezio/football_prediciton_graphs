{
 "cells": [
  {
   "cell_type": "code",
   "execution_count": null,
   "metadata": {},
   "outputs": [],
   "source": [
    "import pandas as pd\n",
    "\n",
    "seasons = [\n",
    "    '00_01', '01_02', '02_03', '03_04', '04_05',\n",
    "    '05_06', '06_07', '07_08', '08_09', '09_10',\n",
    "    '10_11', '11_12', '12_13', '13_14', '14_15',\n",
    "    '15_16', '16_17', '17_18', '18_19', '19_20',\n",
    "    '20_21', '21_22', '22_23', '23_24'\n",
    "]\n",
    "\n",
    "\n",
    "df = pd.DataFrame()\n",
    "\n",
    "for season in seasons:\n",
    "    df = pd.concat([df, pd.read_csv(f'../statistical_data/{season}/E0.csv', encoding='unicode_escape')])\n",
    "    # df = pd.concat([df, pd.read_csv(f'./statistical_data/{season}/D1.csv')])\n",
    "    # df = pd.concat([df, pd.read_csv(f'./statistical_data/{season}/I1.csv')])\n",
    "    # df = pd.concat([df, pd.read_csv(f'./statistical_data/{season}/SP1.csv')])\n",
    "    # df = pd.concat([df, pd.read_csv(f'./statistical_data/{season}/F1.csv')])\n",
    "\n",
    "\n",
    "import matplotlib.pyplot as plt\n",
    "ftr_map = {'H': 'Home Team', 'D': 'Draw', 'A': 'Away Team'}\n",
    "df['FTR'] = df['FTR'].map(ftr_map)\n",
    "df['FTR'].value_counts().plot.pie(autopct='%1.1f%%', startangle=90)\n",
    "plt.title('Winner Distribution')\n",
    "plt.axis('off')\n",
    "plt.show()"
   ]
  }
 ],
 "metadata": {
  "kernelspec": {
   "display_name": ".venv",
   "language": "python",
   "name": "python3"
  },
  "language_info": {
   "name": "python",
   "version": "3.12.3"
  }
 },
 "nbformat": 4,
 "nbformat_minor": 2
}
